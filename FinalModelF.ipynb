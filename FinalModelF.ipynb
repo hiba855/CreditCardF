{
 "cells": [
  {
   "cell_type": "code",
   "execution_count": 1,
   "id": "c6a52386-9e98-4139-9e30-bb7a69e51abb",
   "metadata": {},
   "outputs": [],
   "source": [
    "import pandas as pd # data processing\n",
    "import numpy as np # working with arrays\n",
    "import matplotlib.pyplot as plt #visualisasi\n",
    "from termcolor import colored as cl # text customization\n",
    "import itertools # advanced tools\n",
    "from imblearn.over_sampling import SMOTE\n",
    "from sklearn.preprocessing import StandardScaler # data normalization\n",
    "from sklearn.model_selection import train_test_split # data split\n",
    "from sklearn.tree import DecisionTreeClassifier # Decision tree algorithm\n",
    "from sklearn.neighbors import KNeighborsClassifier # KNN Algorithm\n",
    "from sklearn.svm import SVC #SVM Algorithm\n",
    "from sklearn.ensemble import RandomForestClassifier # Random Forest Tree Algorithm\n",
    "from sklearn.metrics import classification_report, confusion_matrix\n",
    "from sklearn.metrics import confusion_matrix, accuracy_score, f1_score\n",
    "from sklearn.neural_network import MLPClassifier\n",
    "import joblib"
   ]
  },
  {
   "cell_type": "code",
   "execution_count": 2,
   "id": "b8837ba2-7aad-437c-8be6-4f2279af9623",
   "metadata": {},
   "outputs": [
    {
     "name": "stdout",
     "output_type": "stream",
     "text": [
      "Fin\n"
     ]
    }
   ],
   "source": [
    "df_train = pd.read_csv(\"data_train_after_smote.csv\")\n",
    "df_test = pd.read_csv(\"data_test.csv\")\n",
    "print(\"Fin\")"
   ]
  },
  {
   "cell_type": "code",
   "execution_count": 3,
   "id": "fc65b0b4-2b18-4919-ab3c-aae959d81cf1",
   "metadata": {},
   "outputs": [
    {
     "data": {
      "text/plain": [
       "(440296, 30)"
      ]
     },
     "execution_count": 3,
     "metadata": {},
     "output_type": "execute_result"
    }
   ],
   "source": [
    "df_train.shape"
   ]
  },
  {
   "cell_type": "code",
   "execution_count": 4,
   "id": "ab026e6a-a449-46e5-a008-fddef80f9c33",
   "metadata": {},
   "outputs": [
    {
     "name": "stdout",
     "output_type": "stream",
     "text": [
      "Class\n",
      "0    220148\n",
      "1    220148\n",
      "Name: count, dtype: int64\n"
     ]
    }
   ],
   "source": [
    "##Vérifier l’équilibre entre fraudes et normales\n",
    "print(df_train['Class'].value_counts())"
   ]
  },
  {
   "cell_type": "code",
   "execution_count": 5,
   "id": "92489c39-4f6a-4bba-83ac-5486eeb89897",
   "metadata": {},
   "outputs": [],
   "source": [
    "X_train = df_train.drop('Class', axis=1)\n",
    "y_train = df_train['Class']\n",
    "\n",
    "X_test = df_test.drop('Class', axis=1)\n",
    "y_test = df_test['Class']"
   ]
  },
  {
   "cell_type": "code",
   "execution_count": 6,
   "id": "79c84e2f-0244-4f86-80b7-dae8ac116261",
   "metadata": {},
   "outputs": [
    {
     "name": "stdout",
     "output_type": "stream",
     "text": [
      "Number transactions X_train dataset:  (440296, 29)\n",
      "Number transactions y_train dataset:  (440296,)\n",
      "Number transactions X_test dataset:  (55133, 29)\n",
      "Number transactions y_test dataset:  (55133,)\n"
     ]
    }
   ],
   "source": [
    "# describes info about train and test set\n",
    "print(\"Number transactions X_train dataset: \", X_train.shape)\n",
    "print(\"Number transactions y_train dataset: \", y_train.shape)\n",
    "print(\"Number transactions X_test dataset: \", X_test.shape)\n",
    "print(\"Number transactions y_test dataset: \", y_test.shape)"
   ]
  },
  {
   "cell_type": "code",
   "execution_count": 7,
   "id": "82773adf-bae9-48b8-88a7-9cba0579eb93",
   "metadata": {},
   "outputs": [],
   "source": [
    "#  Normalisation globale (important pour KNN,SVM,MLP)\n",
    "scaler = StandardScaler()\n",
    "X_train_scaled = scaler.fit_transform(X_train)\n",
    "X_test_scaled = scaler.transform(X_test)"
   ]
  },
  {
   "cell_type": "code",
   "execution_count": 8,
   "id": "a229c185-77d2-4da3-a760-8fab5e8ee827",
   "metadata": {},
   "outputs": [
    {
     "name": "stdout",
     "output_type": "stream",
     "text": [
      "Modele entrainé\n"
     ]
    }
   ],
   "source": [
    "#  Modèle Decision Tree\n",
    "dt = DecisionTreeClassifier(random_state=42, max_depth=4)\n",
    "dt.fit(X_train, y_train)\n",
    "print(\"Modele entrainé\")"
   ]
  },
  {
   "cell_type": "code",
   "execution_count": 9,
   "id": "ef116e7c-53a7-4c5c-a58a-986a118be152",
   "metadata": {},
   "outputs": [
    {
     "name": "stdout",
     "output_type": "stream",
     "text": [
      "Confusion Matrix:\n",
      "[[53390  1652]\n",
      " [   13    78]]\n",
      "\n",
      "Classification Report:\n",
      "              precision    recall  f1-score   support\n",
      "\n",
      "           0       1.00      0.97      0.98     55042\n",
      "           1       0.05      0.86      0.09        91\n",
      "\n",
      "    accuracy                           0.97     55133\n",
      "   macro avg       0.52      0.91      0.54     55133\n",
      "weighted avg       1.00      0.97      0.98     55133\n",
      "\n",
      "Modèle sauvegardé sous 'decision_tree_model.joblib'\n"
     ]
    }
   ],
   "source": [
    "#  Prédictions\n",
    "y_pred = dt.predict(X_test)\n",
    "y_proba = dt.predict_proba(X_test)[:, 1]\n",
    "\n",
    "#  Évaluation\n",
    "print(\"Confusion Matrix:\")\n",
    "print(confusion_matrix(y_test, y_pred))\n",
    "print(\"\\nClassification Report:\")\n",
    "print(classification_report(y_test, y_pred))\n",
    "\n",
    "joblib.dump(dt,'decision_tree_model.joblib')\n",
    "print(\"Modèle sauvegardé sous 'decision_tree_model.joblib'\")\n"
   ]
  },
  {
   "cell_type": "code",
   "execution_count": 10,
   "id": "f060616f-7bc2-4814-b555-28dc76388729",
   "metadata": {},
   "outputs": [
    {
     "name": "stdout",
     "output_type": "stream",
     "text": [
      "Modele entrainé\n"
     ]
    }
   ],
   "source": [
    "#  Modèle KNN\n",
    "knn = KNeighborsClassifier(n_neighbors=7)\n",
    "knn.fit(X_train_scaled, y_train)\n",
    "print(\"Modele entrainé\")"
   ]
  },
  {
   "cell_type": "code",
   "execution_count": 11,
   "id": "91da1892-d2f3-4b09-86a6-565e9ac922a3",
   "metadata": {},
   "outputs": [
    {
     "name": "stdout",
     "output_type": "stream",
     "text": [
      "Confusion Matrix:\n",
      "[[54878   164]\n",
      " [   23    68]]\n",
      "\n",
      "Classification Report:\n",
      "              precision    recall  f1-score   support\n",
      "\n",
      "           0       1.00      1.00      1.00     55042\n",
      "           1       0.29      0.75      0.42        91\n",
      "\n",
      "    accuracy                           1.00     55133\n",
      "   macro avg       0.65      0.87      0.71     55133\n",
      "weighted avg       1.00      1.00      1.00     55133\n",
      "\n",
      "Modèle sauvegardé sous 'KNN_model.joblib'\n"
     ]
    }
   ],
   "source": [
    "#  Prédictions\n",
    "y_pred = knn.predict(X_test_scaled)\n",
    "y_proba = knn.predict_proba(X_test_scaled)[:, 1]\n",
    "\n",
    "# Évaluation\n",
    "print(\"Confusion Matrix:\")\n",
    "print(confusion_matrix(y_test, y_pred))\n",
    "print(\"\\nClassification Report:\")\n",
    "print(classification_report(y_test, y_pred))\n",
    "\n",
    "joblib.dump(knn,'KNN_model.joblib')\n",
    "print(\"Modèle sauvegardé sous 'KNN_model.joblib'\")\n"
   ]
  },
  {
   "cell_type": "code",
   "execution_count": 12,
   "id": "b3e51a5f-2866-4afb-87a3-6e2af7f0f713",
   "metadata": {},
   "outputs": [
    {
     "name": "stdout",
     "output_type": "stream",
     "text": [
      "Modele entrainé\n"
     ]
    }
   ],
   "source": [
    "# Modèle SVM avec probabilités\n",
    "svm = SVC(kernel='rbf', probability=True, random_state=42)\n",
    "svm.fit(X_train_scaled, y_train)\n",
    "print(\"Modele entrainé\")"
   ]
  },
  {
   "cell_type": "code",
   "execution_count": 13,
   "id": "0484a718-c434-469b-a83e-970ff60e1ec4",
   "metadata": {},
   "outputs": [
    {
     "name": "stdout",
     "output_type": "stream",
     "text": [
      "Confusion Matrix:\n",
      "[[54623   419]\n",
      " [   25    66]]\n",
      "\n",
      "Classification Report:\n",
      "              precision    recall  f1-score   support\n",
      "\n",
      "           0       1.00      0.99      1.00     55042\n",
      "           1       0.14      0.73      0.23        91\n",
      "\n",
      "    accuracy                           0.99     55133\n",
      "   macro avg       0.57      0.86      0.61     55133\n",
      "weighted avg       1.00      0.99      0.99     55133\n",
      "\n",
      "Modèle sauvegardé sous 'SVM_model.joblib'\n"
     ]
    }
   ],
   "source": [
    "#  Prédictions\n",
    "y_pred = svm.predict(X_test_scaled)\n",
    "y_proba = svm.predict_proba(X_test_scaled)[:, 1]\n",
    "\n",
    "#  Évaluation\n",
    "print(\"Confusion Matrix:\")\n",
    "print(confusion_matrix(y_test, y_pred))\n",
    "print(\"\\nClassification Report:\")\n",
    "print(classification_report(y_test, y_pred))\n",
    "\n",
    "joblib.dump(svm,'SVM_model.joblib')\n",
    "print(\"Modèle sauvegardé sous 'SVM_model.joblib'\")\n"
   ]
  },
  {
   "cell_type": "code",
   "execution_count": 14,
   "id": "75afe1c5-bed9-4a06-b862-f9630a1f412b",
   "metadata": {},
   "outputs": [
    {
     "name": "stdout",
     "output_type": "stream",
     "text": [
      "Modele entrainé\n"
     ]
    }
   ],
   "source": [
    "#  Modèle MLP\n",
    "mlp = MLPClassifier(hidden_layer_sizes=(64, 32), max_iter=300, random_state=42)\n",
    "mlp.fit(X_train_scaled, y_train)\n",
    "print(\"Modele entrainé\")"
   ]
  },
  {
   "cell_type": "code",
   "execution_count": 15,
   "id": "0050aca7-df13-4534-9256-4c07cbade149",
   "metadata": {},
   "outputs": [
    {
     "name": "stdout",
     "output_type": "stream",
     "text": [
      "Confusion Matrix:\n",
      "[[55007    35]\n",
      " [   23    68]]\n",
      "\n",
      "Classification Report:\n",
      "              precision    recall  f1-score   support\n",
      "\n",
      "           0       1.00      1.00      1.00     55042\n",
      "           1       0.66      0.75      0.70        91\n",
      "\n",
      "    accuracy                           1.00     55133\n",
      "   macro avg       0.83      0.87      0.85     55133\n",
      "weighted avg       1.00      1.00      1.00     55133\n",
      "\n",
      "Modèle sauvegardé sous 'MLP_model.joblib'\n"
     ]
    }
   ],
   "source": [
    "#  Prédictions\n",
    "y_pred = mlp.predict(X_test_scaled)\n",
    "y_proba = mlp.predict_proba(X_test_scaled)[:, 1]\n",
    "\n",
    "#  Évaluation\n",
    "print(\"Confusion Matrix:\")\n",
    "print(confusion_matrix(y_test, y_pred))\n",
    "print(\"\\nClassification Report:\")\n",
    "print(classification_report(y_test, y_pred))\n",
    "\n",
    "joblib.dump(mlp,'MLP_model.joblib')\n",
    "print(\"Modèle sauvegardé sous 'MLP_model.joblib'\")\n"
   ]
  },
  {
   "cell_type": "code",
   "execution_count": 16,
   "id": "5663f590-9b2e-43b0-b88f-b1ea0afd5899",
   "metadata": {},
   "outputs": [
    {
     "name": "stdout",
     "output_type": "stream",
     "text": [
      "Modele entrainé\n"
     ]
    }
   ],
   "source": [
    "#  Entraîner le modèle Random Forest\n",
    "rf = RandomForestClassifier(n_estimators=100, random_state=42)\n",
    "rf.fit(X_train, y_train)\n",
    "print(\"Modele entrainé\")"
   ]
  },
  {
   "cell_type": "code",
   "execution_count": 17,
   "id": "0f87f3c6-cc5a-4cfb-a9ae-e2f369ade744",
   "metadata": {},
   "outputs": [
    {
     "name": "stdout",
     "output_type": "stream",
     "text": [
      "Confusion Matrix:\n",
      "[[55028    14]\n",
      " [   19    72]]\n",
      "\n",
      "Classification Report:\n",
      "              precision    recall  f1-score   support\n",
      "\n",
      "           0       1.00      1.00      1.00     55042\n",
      "           1       0.84      0.79      0.81        91\n",
      "\n",
      "    accuracy                           1.00     55133\n",
      "   macro avg       0.92      0.90      0.91     55133\n",
      "weighted avg       1.00      1.00      1.00     55133\n",
      "\n",
      "Modèle sauvegardé sous 'Random Forest_model.joblib'\n"
     ]
    }
   ],
   "source": [
    "# Prédire sur les données test\n",
    "y_pred = rf.predict(X_test)\n",
    "\n",
    "#  Évaluer les performances\n",
    "print(\"Confusion Matrix:\")\n",
    "print(confusion_matrix(y_test, y_pred))\n",
    "\n",
    "print(\"\\nClassification Report:\")\n",
    "print(classification_report(y_test, y_pred))\n",
    "\n",
    "joblib.dump(rf, 'Random_Forest_model.joblib')\n",
    "print(\"Modèle sauvegardé sous 'Random Forest_model.joblib'\")\n"
   ]
  }
 ],
 "metadata": {
  "kernelspec": {
   "display_name": "Python 3 (ipykernel)",
   "language": "python",
   "name": "python3"
  },
  "language_info": {
   "codemirror_mode": {
    "name": "ipython",
    "version": 3
   },
   "file_extension": ".py",
   "mimetype": "text/x-python",
   "name": "python",
   "nbconvert_exporter": "python",
   "pygments_lexer": "ipython3",
   "version": "3.13.3"
  }
 },
 "nbformat": 4,
 "nbformat_minor": 5
}
